{
 "cells": [
  {
   "cell_type": "markdown",
   "metadata": {},
   "source": [
    "**Data regarding Netflix shows**"
   ]
  },
  {
   "cell_type": "code",
   "execution_count": 77,
   "metadata": {},
   "outputs": [],
   "source": [
    "import sys\n",
    "import numpy as np\n",
    "import pandas as pd\n",
    "import matplotlib.pyplot as plt"
   ]
  },
  {
   "cell_type": "code",
   "execution_count": 78,
   "metadata": {},
   "outputs": [
    {
     "data": {
      "text/html": [
       "<div>\n",
       "<style scoped>\n",
       "    .dataframe tbody tr th:only-of-type {\n",
       "        vertical-align: middle;\n",
       "    }\n",
       "\n",
       "    .dataframe tbody tr th {\n",
       "        vertical-align: top;\n",
       "    }\n",
       "\n",
       "    .dataframe thead th {\n",
       "        text-align: right;\n",
       "    }\n",
       "</style>\n",
       "<table border=\"1\" class=\"dataframe\">\n",
       "  <thead>\n",
       "    <tr style=\"text-align: right;\">\n",
       "      <th></th>\n",
       "      <th>title</th>\n",
       "      <th>rating</th>\n",
       "      <th>ratingLevel</th>\n",
       "      <th>ratingDescription</th>\n",
       "      <th>release year</th>\n",
       "      <th>user rating score</th>\n",
       "      <th>user rating size</th>\n",
       "    </tr>\n",
       "  </thead>\n",
       "  <tbody>\n",
       "    <tr>\n",
       "      <th>0</th>\n",
       "      <td>White Chicks</td>\n",
       "      <td>PG-13</td>\n",
       "      <td>crude and sexual humor, language and some drug...</td>\n",
       "      <td>80</td>\n",
       "      <td>2004</td>\n",
       "      <td>82.0</td>\n",
       "      <td>80</td>\n",
       "    </tr>\n",
       "    <tr>\n",
       "      <th>1</th>\n",
       "      <td>Lucky Number Slevin</td>\n",
       "      <td>R</td>\n",
       "      <td>strong violence, sexual content and adult lang...</td>\n",
       "      <td>100</td>\n",
       "      <td>2006</td>\n",
       "      <td>NaN</td>\n",
       "      <td>82</td>\n",
       "    </tr>\n",
       "    <tr>\n",
       "      <th>2</th>\n",
       "      <td>Grey's Anatomy</td>\n",
       "      <td>TV-14</td>\n",
       "      <td>Parents strongly cautioned. May be unsuitable ...</td>\n",
       "      <td>90</td>\n",
       "      <td>2016</td>\n",
       "      <td>98.0</td>\n",
       "      <td>80</td>\n",
       "    </tr>\n",
       "    <tr>\n",
       "      <th>3</th>\n",
       "      <td>Prison Break</td>\n",
       "      <td>TV-14</td>\n",
       "      <td>Parents strongly cautioned. May be unsuitable ...</td>\n",
       "      <td>90</td>\n",
       "      <td>2008</td>\n",
       "      <td>98.0</td>\n",
       "      <td>80</td>\n",
       "    </tr>\n",
       "    <tr>\n",
       "      <th>4</th>\n",
       "      <td>How I Met Your Mother</td>\n",
       "      <td>TV-PG</td>\n",
       "      <td>Parental guidance suggested. May not be suitab...</td>\n",
       "      <td>70</td>\n",
       "      <td>2014</td>\n",
       "      <td>94.0</td>\n",
       "      <td>80</td>\n",
       "    </tr>\n",
       "    <tr>\n",
       "      <th>...</th>\n",
       "      <td>...</td>\n",
       "      <td>...</td>\n",
       "      <td>...</td>\n",
       "      <td>...</td>\n",
       "      <td>...</td>\n",
       "      <td>...</td>\n",
       "      <td>...</td>\n",
       "    </tr>\n",
       "    <tr>\n",
       "      <th>995</th>\n",
       "      <td>The BFG</td>\n",
       "      <td>PG</td>\n",
       "      <td>for action/peril, some scary moments and brief...</td>\n",
       "      <td>60</td>\n",
       "      <td>2016</td>\n",
       "      <td>97.0</td>\n",
       "      <td>80</td>\n",
       "    </tr>\n",
       "    <tr>\n",
       "      <th>996</th>\n",
       "      <td>The Secret Life of Pets</td>\n",
       "      <td>PG</td>\n",
       "      <td>for action and some rude humor</td>\n",
       "      <td>60</td>\n",
       "      <td>2016</td>\n",
       "      <td>NaN</td>\n",
       "      <td>81</td>\n",
       "    </tr>\n",
       "    <tr>\n",
       "      <th>997</th>\n",
       "      <td>Precious Puppies</td>\n",
       "      <td>TV-G</td>\n",
       "      <td>Suitable for all ages.</td>\n",
       "      <td>35</td>\n",
       "      <td>2003</td>\n",
       "      <td>NaN</td>\n",
       "      <td>82</td>\n",
       "    </tr>\n",
       "    <tr>\n",
       "      <th>998</th>\n",
       "      <td>Beary Tales</td>\n",
       "      <td>TV-G</td>\n",
       "      <td>Suitable for all ages.</td>\n",
       "      <td>35</td>\n",
       "      <td>2013</td>\n",
       "      <td>NaN</td>\n",
       "      <td>82</td>\n",
       "    </tr>\n",
       "    <tr>\n",
       "      <th>999</th>\n",
       "      <td>Growing Up Wild</td>\n",
       "      <td>G</td>\n",
       "      <td>NaN</td>\n",
       "      <td>35</td>\n",
       "      <td>2016</td>\n",
       "      <td>80.0</td>\n",
       "      <td>80</td>\n",
       "    </tr>\n",
       "  </tbody>\n",
       "</table>\n",
       "<p>1000 rows × 7 columns</p>\n",
       "</div>"
      ],
      "text/plain": [
       "                       title rating  \\\n",
       "0               White Chicks  PG-13   \n",
       "1        Lucky Number Slevin      R   \n",
       "2             Grey's Anatomy  TV-14   \n",
       "3               Prison Break  TV-14   \n",
       "4      How I Met Your Mother  TV-PG   \n",
       "..                       ...    ...   \n",
       "995                  The BFG     PG   \n",
       "996  The Secret Life of Pets     PG   \n",
       "997         Precious Puppies   TV-G   \n",
       "998              Beary Tales   TV-G   \n",
       "999          Growing Up Wild      G   \n",
       "\n",
       "                                           ratingLevel  ratingDescription  \\\n",
       "0    crude and sexual humor, language and some drug...                 80   \n",
       "1    strong violence, sexual content and adult lang...                100   \n",
       "2    Parents strongly cautioned. May be unsuitable ...                 90   \n",
       "3    Parents strongly cautioned. May be unsuitable ...                 90   \n",
       "4    Parental guidance suggested. May not be suitab...                 70   \n",
       "..                                                 ...                ...   \n",
       "995  for action/peril, some scary moments and brief...                 60   \n",
       "996                     for action and some rude humor                 60   \n",
       "997                             Suitable for all ages.                 35   \n",
       "998                             Suitable for all ages.                 35   \n",
       "999                                                NaN                 35   \n",
       "\n",
       "     release year  user rating score  user rating size  \n",
       "0            2004               82.0                80  \n",
       "1            2006                NaN                82  \n",
       "2            2016               98.0                80  \n",
       "3            2008               98.0                80  \n",
       "4            2014               94.0                80  \n",
       "..            ...                ...               ...  \n",
       "995          2016               97.0                80  \n",
       "996          2016                NaN                81  \n",
       "997          2003                NaN                82  \n",
       "998          2013                NaN                82  \n",
       "999          2016               80.0                80  \n",
       "\n",
       "[1000 rows x 7 columns]"
      ]
     },
     "execution_count": 78,
     "metadata": {},
     "output_type": "execute_result"
    }
   ],
   "source": [
    "shows=pd.read_csv(r'C:\\Users\\asus\\Desktop\\Machine Learning\\Netflix_Shows.csv',encoding='ISO-8859-1')\n",
    "shows"
   ]
  },
  {
   "cell_type": "code",
   "execution_count": 79,
   "metadata": {},
   "outputs": [
    {
     "data": {
      "text/plain": [
       "500"
      ]
     },
     "execution_count": 79,
     "metadata": {},
     "output_type": "execute_result"
    }
   ],
   "source": [
    "shows.duplicated().sum()"
   ]
  },
  {
   "cell_type": "markdown",
   "metadata": {},
   "source": [
    "*Checking number of duplicates*"
   ]
  },
  {
   "cell_type": "code",
   "execution_count": 80,
   "metadata": {},
   "outputs": [
    {
     "data": {
      "text/html": [
       "<div>\n",
       "<style scoped>\n",
       "    .dataframe tbody tr th:only-of-type {\n",
       "        vertical-align: middle;\n",
       "    }\n",
       "\n",
       "    .dataframe tbody tr th {\n",
       "        vertical-align: top;\n",
       "    }\n",
       "\n",
       "    .dataframe thead th {\n",
       "        text-align: right;\n",
       "    }\n",
       "</style>\n",
       "<table border=\"1\" class=\"dataframe\">\n",
       "  <thead>\n",
       "    <tr style=\"text-align: right;\">\n",
       "      <th></th>\n",
       "      <th>title</th>\n",
       "      <th>rating</th>\n",
       "      <th>ratingLevel</th>\n",
       "      <th>ratingDescription</th>\n",
       "      <th>release year</th>\n",
       "      <th>user rating score</th>\n",
       "      <th>user rating size</th>\n",
       "    </tr>\n",
       "  </thead>\n",
       "  <tbody>\n",
       "    <tr>\n",
       "      <th>0</th>\n",
       "      <td>White Chicks</td>\n",
       "      <td>PG-13</td>\n",
       "      <td>crude and sexual humor, language and some drug...</td>\n",
       "      <td>80</td>\n",
       "      <td>2004</td>\n",
       "      <td>82.0</td>\n",
       "      <td>80</td>\n",
       "    </tr>\n",
       "    <tr>\n",
       "      <th>1</th>\n",
       "      <td>Lucky Number Slevin</td>\n",
       "      <td>R</td>\n",
       "      <td>strong violence, sexual content and adult lang...</td>\n",
       "      <td>100</td>\n",
       "      <td>2006</td>\n",
       "      <td>NaN</td>\n",
       "      <td>82</td>\n",
       "    </tr>\n",
       "    <tr>\n",
       "      <th>2</th>\n",
       "      <td>Grey's Anatomy</td>\n",
       "      <td>TV-14</td>\n",
       "      <td>Parents strongly cautioned. May be unsuitable ...</td>\n",
       "      <td>90</td>\n",
       "      <td>2016</td>\n",
       "      <td>98.0</td>\n",
       "      <td>80</td>\n",
       "    </tr>\n",
       "    <tr>\n",
       "      <th>3</th>\n",
       "      <td>Prison Break</td>\n",
       "      <td>TV-14</td>\n",
       "      <td>Parents strongly cautioned. May be unsuitable ...</td>\n",
       "      <td>90</td>\n",
       "      <td>2008</td>\n",
       "      <td>98.0</td>\n",
       "      <td>80</td>\n",
       "    </tr>\n",
       "    <tr>\n",
       "      <th>4</th>\n",
       "      <td>How I Met Your Mother</td>\n",
       "      <td>TV-PG</td>\n",
       "      <td>Parental guidance suggested. May not be suitab...</td>\n",
       "      <td>70</td>\n",
       "      <td>2014</td>\n",
       "      <td>94.0</td>\n",
       "      <td>80</td>\n",
       "    </tr>\n",
       "    <tr>\n",
       "      <th>...</th>\n",
       "      <td>...</td>\n",
       "      <td>...</td>\n",
       "      <td>...</td>\n",
       "      <td>...</td>\n",
       "      <td>...</td>\n",
       "      <td>...</td>\n",
       "      <td>...</td>\n",
       "    </tr>\n",
       "    <tr>\n",
       "      <th>989</th>\n",
       "      <td>Russell Madness</td>\n",
       "      <td>PG</td>\n",
       "      <td>some rude humor and sports action</td>\n",
       "      <td>60</td>\n",
       "      <td>2015</td>\n",
       "      <td>NaN</td>\n",
       "      <td>82</td>\n",
       "    </tr>\n",
       "    <tr>\n",
       "      <th>993</th>\n",
       "      <td>Wiener Dog Internationals</td>\n",
       "      <td>G</td>\n",
       "      <td>General Audiences. Suitable for all ages.</td>\n",
       "      <td>35</td>\n",
       "      <td>2015</td>\n",
       "      <td>NaN</td>\n",
       "      <td>82</td>\n",
       "    </tr>\n",
       "    <tr>\n",
       "      <th>994</th>\n",
       "      <td>Pup Star</td>\n",
       "      <td>G</td>\n",
       "      <td>General Audiences. Suitable for all ages.</td>\n",
       "      <td>35</td>\n",
       "      <td>2016</td>\n",
       "      <td>NaN</td>\n",
       "      <td>82</td>\n",
       "    </tr>\n",
       "    <tr>\n",
       "      <th>997</th>\n",
       "      <td>Precious Puppies</td>\n",
       "      <td>TV-G</td>\n",
       "      <td>Suitable for all ages.</td>\n",
       "      <td>35</td>\n",
       "      <td>2003</td>\n",
       "      <td>NaN</td>\n",
       "      <td>82</td>\n",
       "    </tr>\n",
       "    <tr>\n",
       "      <th>998</th>\n",
       "      <td>Beary Tales</td>\n",
       "      <td>TV-G</td>\n",
       "      <td>Suitable for all ages.</td>\n",
       "      <td>35</td>\n",
       "      <td>2013</td>\n",
       "      <td>NaN</td>\n",
       "      <td>82</td>\n",
       "    </tr>\n",
       "  </tbody>\n",
       "</table>\n",
       "<p>500 rows × 7 columns</p>\n",
       "</div>"
      ],
      "text/plain": [
       "                         title rating  \\\n",
       "0                 White Chicks  PG-13   \n",
       "1          Lucky Number Slevin      R   \n",
       "2               Grey's Anatomy  TV-14   \n",
       "3                 Prison Break  TV-14   \n",
       "4        How I Met Your Mother  TV-PG   \n",
       "..                         ...    ...   \n",
       "989            Russell Madness     PG   \n",
       "993  Wiener Dog Internationals      G   \n",
       "994                   Pup Star      G   \n",
       "997           Precious Puppies   TV-G   \n",
       "998                Beary Tales   TV-G   \n",
       "\n",
       "                                           ratingLevel  ratingDescription  \\\n",
       "0    crude and sexual humor, language and some drug...                 80   \n",
       "1    strong violence, sexual content and adult lang...                100   \n",
       "2    Parents strongly cautioned. May be unsuitable ...                 90   \n",
       "3    Parents strongly cautioned. May be unsuitable ...                 90   \n",
       "4    Parental guidance suggested. May not be suitab...                 70   \n",
       "..                                                 ...                ...   \n",
       "989                  some rude humor and sports action                 60   \n",
       "993          General Audiences. Suitable for all ages.                 35   \n",
       "994          General Audiences. Suitable for all ages.                 35   \n",
       "997                             Suitable for all ages.                 35   \n",
       "998                             Suitable for all ages.                 35   \n",
       "\n",
       "     release year  user rating score  user rating size  \n",
       "0            2004               82.0                80  \n",
       "1            2006                NaN                82  \n",
       "2            2016               98.0                80  \n",
       "3            2008               98.0                80  \n",
       "4            2014               94.0                80  \n",
       "..            ...                ...               ...  \n",
       "989          2015                NaN                82  \n",
       "993          2015                NaN                82  \n",
       "994          2016                NaN                82  \n",
       "997          2003                NaN                82  \n",
       "998          2013                NaN                82  \n",
       "\n",
       "[500 rows x 7 columns]"
      ]
     },
     "execution_count": 80,
     "metadata": {},
     "output_type": "execute_result"
    }
   ],
   "source": [
    "shows=shows[shows.duplicated()==False]\n",
    "shows"
   ]
  },
  {
   "cell_type": "markdown",
   "metadata": {},
   "source": [
    "*Removed rows in which all the columns are same*"
   ]
  },
  {
   "cell_type": "code",
   "execution_count": 81,
   "metadata": {},
   "outputs": [
    {
     "name": "stdout",
     "output_type": "stream",
     "text": [
      "<class 'pandas.core.frame.DataFrame'>\n",
      "Int64Index: 500 entries, 0 to 998\n",
      "Data columns (total 7 columns):\n",
      " #   Column             Non-Null Count  Dtype  \n",
      "---  ------             --------------  -----  \n",
      " 0   title              500 non-null    object \n",
      " 1   rating             500 non-null    object \n",
      " 2   ratingLevel        467 non-null    object \n",
      " 3   ratingDescription  500 non-null    int64  \n",
      " 4   release year       500 non-null    int64  \n",
      " 5   user rating score  256 non-null    float64\n",
      " 6   user rating size   500 non-null    int64  \n",
      "dtypes: float64(1), int64(3), object(3)\n",
      "memory usage: 31.2+ KB\n"
     ]
    }
   ],
   "source": [
    "shows.info()"
   ]
  },
  {
   "cell_type": "code",
   "execution_count": 82,
   "metadata": {},
   "outputs": [
    {
     "data": {
      "text/plain": [
       "title                  0\n",
       "rating                 0\n",
       "ratingLevel           33\n",
       "ratingDescription      0\n",
       "release year           0\n",
       "user rating score    244\n",
       "user rating size       0\n",
       "dtype: int64"
      ]
     },
     "execution_count": 82,
     "metadata": {},
     "output_type": "execute_result"
    }
   ],
   "source": [
    "shows.isnull().sum()"
   ]
  },
  {
   "cell_type": "markdown",
   "metadata": {},
   "source": [
    "*This shows that ratingLevel (object type) and user rating score (float type) have many null values which needs to be corrected*"
   ]
  },
  {
   "cell_type": "code",
   "execution_count": 83,
   "metadata": {},
   "outputs": [
    {
     "data": {
      "text/plain": [
       "Parents strongly cautioned. May be unsuitable for children ages 14 and under.    100\n",
       "Suitable for all ages.                                                            65\n",
       "For mature audiences.  May not be suitable for children 17 and under.             60\n",
       "General Audiences. Suitable for all ages.                                         52\n",
       "Parental guidance suggested. May not be suitable for all children.                31\n",
       "Name: ratingLevel, dtype: int64"
      ]
     },
     "execution_count": 83,
     "metadata": {},
     "output_type": "execute_result"
    }
   ],
   "source": [
    "shows['ratingLevel'].value_counts().head()"
   ]
  },
  {
   "cell_type": "markdown",
   "metadata": {},
   "source": [
    "*Checked for five most occuring data and filling it instead of null values in ratingLevel*"
   ]
  },
  {
   "cell_type": "code",
   "execution_count": 100,
   "metadata": {},
   "outputs": [],
   "source": [
    "temp='Parents strongly cautioned. May be unsuitable for children ages 14 and under.'\n",
    "shows['ratingLevel']=shows['ratingLevel'].fillna(temp)"
   ]
  },
  {
   "cell_type": "code",
   "execution_count": 102,
   "metadata": {},
   "outputs": [
    {
     "name": "stdout",
     "output_type": "stream",
     "text": [
      "<class 'pandas.core.frame.DataFrame'>\n",
      "Int64Index: 500 entries, 0 to 998\n",
      "Data columns (total 7 columns):\n",
      " #   Column             Non-Null Count  Dtype  \n",
      "---  ------             --------------  -----  \n",
      " 0   title              500 non-null    object \n",
      " 1   rating             500 non-null    object \n",
      " 2   ratingDescription  500 non-null    object \n",
      " 3   ratingLevel        500 non-null    int64  \n",
      " 4   release year       500 non-null    int64  \n",
      " 5   user rating score  500 non-null    float64\n",
      " 6   user rating size   500 non-null    int64  \n",
      "dtypes: float64(1), int64(3), object(3)\n",
      "memory usage: 31.2+ KB\n"
     ]
    }
   ],
   "source": [
    "shows.info()"
   ]
  },
  {
   "cell_type": "code",
   "execution_count": 103,
   "metadata": {},
   "outputs": [
    {
     "data": {
      "text/plain": [
       "<AxesSubplot:ylabel='Density'>"
      ]
     },
     "execution_count": 103,
     "metadata": {},
     "output_type": "execute_result"
    },
    {
     "data": {
      "image/png": "[encoded data removed]",
      "text/plain": [
       "<Figure size 432x288 with 1 Axes>"
      ]
     },
     "metadata": {
      "needs_background": "light"
     },
     "output_type": "display_data"
    }
   ],
   "source": [
    "shows['user rating score'].dropna().plot(kind='density')"
   ]
  },
  {
   "cell_type": "code",
   "execution_count": 104,
   "metadata": {},
   "outputs": [],
   "source": [
    "shows['user rating score']=shows['user rating score'].fillna(shows['user rating score'].dropna().median())"
   ]
  },
  {
   "cell_type": "code",
   "execution_count": 105,
   "metadata": {},
   "outputs": [
    {
     "name": "stdout",
     "output_type": "stream",
     "text": [
      "<class 'pandas.core.frame.DataFrame'>\n",
      "Int64Index: 500 entries, 0 to 998\n",
      "Data columns (total 7 columns):\n",
      " #   Column             Non-Null Count  Dtype  \n",
      "---  ------             --------------  -----  \n",
      " 0   title              500 non-null    object \n",
      " 1   rating             500 non-null    object \n",
      " 2   ratingDescription  500 non-null    object \n",
      " 3   ratingLevel        500 non-null    int64  \n",
      " 4   release year       500 non-null    int64  \n",
      " 5   user rating score  500 non-null    float64\n",
      " 6   user rating size   500 non-null    int64  \n",
      "dtypes: float64(1), int64(3), object(3)\n",
      "memory usage: 31.2+ KB\n"
     ]
    }
   ],
   "source": [
    "shows.info()"
   ]
  },
  {
   "cell_type": "markdown",
   "metadata": {},
   "source": [
    "*Filled null values of user rating score with their median value*"
   ]
  },
  {
   "cell_type": "code",
   "execution_count": 106,
   "metadata": {},
   "outputs": [
    {
     "data": {
      "text/html": [
       "<div>\n",
       "<style scoped>\n",
       "    .dataframe tbody tr th:only-of-type {\n",
       "        vertical-align: middle;\n",
       "    }\n",
       "\n",
       "    .dataframe tbody tr th {\n",
       "        vertical-align: top;\n",
       "    }\n",
       "\n",
       "    .dataframe thead th {\n",
       "        text-align: right;\n",
       "    }\n",
       "</style>\n",
       "<table border=\"1\" class=\"dataframe\">\n",
       "  <thead>\n",
       "    <tr style=\"text-align: right;\">\n",
       "      <th></th>\n",
       "      <th>title</th>\n",
       "      <th>rating</th>\n",
       "      <th>ratingDescription</th>\n",
       "      <th>ratingLevel</th>\n",
       "      <th>release year</th>\n",
       "      <th>user rating score</th>\n",
       "      <th>user rating size</th>\n",
       "    </tr>\n",
       "  </thead>\n",
       "  <tbody>\n",
       "    <tr>\n",
       "      <th>0</th>\n",
       "      <td>White Chicks</td>\n",
       "      <td>PG-13</td>\n",
       "      <td>crude and sexual humor, language and some drug...</td>\n",
       "      <td>80</td>\n",
       "      <td>2004</td>\n",
       "      <td>82.0</td>\n",
       "      <td>80</td>\n",
       "    </tr>\n",
       "    <tr>\n",
       "      <th>1</th>\n",
       "      <td>Lucky Number Slevin</td>\n",
       "      <td>R</td>\n",
       "      <td>strong violence, sexual content and adult lang...</td>\n",
       "      <td>100</td>\n",
       "      <td>2006</td>\n",
       "      <td>83.5</td>\n",
       "      <td>82</td>\n",
       "    </tr>\n",
       "    <tr>\n",
       "      <th>2</th>\n",
       "      <td>Grey's Anatomy</td>\n",
       "      <td>TV-14</td>\n",
       "      <td>Parents strongly cautioned. May be unsuitable ...</td>\n",
       "      <td>90</td>\n",
       "      <td>2016</td>\n",
       "      <td>98.0</td>\n",
       "      <td>80</td>\n",
       "    </tr>\n",
       "    <tr>\n",
       "      <th>3</th>\n",
       "      <td>Prison Break</td>\n",
       "      <td>TV-14</td>\n",
       "      <td>Parents strongly cautioned. May be unsuitable ...</td>\n",
       "      <td>90</td>\n",
       "      <td>2008</td>\n",
       "      <td>98.0</td>\n",
       "      <td>80</td>\n",
       "    </tr>\n",
       "    <tr>\n",
       "      <th>4</th>\n",
       "      <td>How I Met Your Mother</td>\n",
       "      <td>TV-PG</td>\n",
       "      <td>Parental guidance suggested. May not be suitab...</td>\n",
       "      <td>70</td>\n",
       "      <td>2014</td>\n",
       "      <td>94.0</td>\n",
       "      <td>80</td>\n",
       "    </tr>\n",
       "    <tr>\n",
       "      <th>...</th>\n",
       "      <td>...</td>\n",
       "      <td>...</td>\n",
       "      <td>...</td>\n",
       "      <td>...</td>\n",
       "      <td>...</td>\n",
       "      <td>...</td>\n",
       "      <td>...</td>\n",
       "    </tr>\n",
       "    <tr>\n",
       "      <th>989</th>\n",
       "      <td>Russell Madness</td>\n",
       "      <td>PG</td>\n",
       "      <td>some rude humor and sports action</td>\n",
       "      <td>60</td>\n",
       "      <td>2015</td>\n",
       "      <td>83.5</td>\n",
       "      <td>82</td>\n",
       "    </tr>\n",
       "    <tr>\n",
       "      <th>993</th>\n",
       "      <td>Wiener Dog Internationals</td>\n",
       "      <td>G</td>\n",
       "      <td>General Audiences. Suitable for all ages.</td>\n",
       "      <td>35</td>\n",
       "      <td>2015</td>\n",
       "      <td>83.5</td>\n",
       "      <td>82</td>\n",
       "    </tr>\n",
       "    <tr>\n",
       "      <th>994</th>\n",
       "      <td>Pup Star</td>\n",
       "      <td>G</td>\n",
       "      <td>General Audiences. Suitable for all ages.</td>\n",
       "      <td>35</td>\n",
       "      <td>2016</td>\n",
       "      <td>83.5</td>\n",
       "      <td>82</td>\n",
       "    </tr>\n",
       "    <tr>\n",
       "      <th>997</th>\n",
       "      <td>Precious Puppies</td>\n",
       "      <td>TV-G</td>\n",
       "      <td>Suitable for all ages.</td>\n",
       "      <td>35</td>\n",
       "      <td>2003</td>\n",
       "      <td>83.5</td>\n",
       "      <td>82</td>\n",
       "    </tr>\n",
       "    <tr>\n",
       "      <th>998</th>\n",
       "      <td>Beary Tales</td>\n",
       "      <td>TV-G</td>\n",
       "      <td>Suitable for all ages.</td>\n",
       "      <td>35</td>\n",
       "      <td>2013</td>\n",
       "      <td>83.5</td>\n",
       "      <td>82</td>\n",
       "    </tr>\n",
       "  </tbody>\n",
       "</table>\n",
       "<p>500 rows × 7 columns</p>\n",
       "</div>"
      ],
      "text/plain": [
       "                         title rating  \\\n",
       "0                 White Chicks  PG-13   \n",
       "1          Lucky Number Slevin      R   \n",
       "2               Grey's Anatomy  TV-14   \n",
       "3                 Prison Break  TV-14   \n",
       "4        How I Met Your Mother  TV-PG   \n",
       "..                         ...    ...   \n",
       "989            Russell Madness     PG   \n",
       "993  Wiener Dog Internationals      G   \n",
       "994                   Pup Star      G   \n",
       "997           Precious Puppies   TV-G   \n",
       "998                Beary Tales   TV-G   \n",
       "\n",
       "                                     ratingDescription  ratingLevel  \\\n",
       "0    crude and sexual humor, language and some drug...           80   \n",
       "1    strong violence, sexual content and adult lang...          100   \n",
       "2    Parents strongly cautioned. May be unsuitable ...           90   \n",
       "3    Parents strongly cautioned. May be unsuitable ...           90   \n",
       "4    Parental guidance suggested. May not be suitab...           70   \n",
       "..                                                 ...          ...   \n",
       "989                  some rude humor and sports action           60   \n",
       "993          General Audiences. Suitable for all ages.           35   \n",
       "994          General Audiences. Suitable for all ages.           35   \n",
       "997                             Suitable for all ages.           35   \n",
       "998                             Suitable for all ages.           35   \n",
       "\n",
       "     release year  user rating score  user rating size  \n",
       "0            2004               82.0                80  \n",
       "1            2006               83.5                82  \n",
       "2            2016               98.0                80  \n",
       "3            2008               98.0                80  \n",
       "4            2014               94.0                80  \n",
       "..            ...                ...               ...  \n",
       "989          2015               83.5                82  \n",
       "993          2015               83.5                82  \n",
       "994          2016               83.5                82  \n",
       "997          2003               83.5                82  \n",
       "998          2013               83.5                82  \n",
       "\n",
       "[500 rows x 7 columns]"
      ]
     },
     "execution_count": 106,
     "metadata": {},
     "output_type": "execute_result"
    }
   ],
   "source": [
    "shows"
   ]
  },
  {
   "cell_type": "code",
   "execution_count": 107,
   "metadata": {},
   "outputs": [
    {
     "data": {
      "text/plain": [
       "<AxesSubplot:ylabel='rating'>"
      ]
     },
     "execution_count": 107,
     "metadata": {},
     "output_type": "execute_result"
    },
    {
     "data": {
      "image/png": "[encoded data removed]",
      "text/plain": [
       "<Figure size 432x288 with 1 Axes>"
      ]
     },
     "metadata": {},
     "output_type": "display_data"
    }
   ],
   "source": [
    "shows['rating'].value_counts().plot(kind='pie',autopct='%1.1f%%')"
   ]
  },
  {
   "cell_type": "markdown",
   "metadata": {},
   "source": [
    "*We can see that Netflix released maximum TV-14 shows*"
   ]
  },
  {
   "cell_type": "code",
   "execution_count": 108,
   "metadata": {},
   "outputs": [
    {
     "data": {
      "text/plain": [
       "<AxesSubplot:>"
      ]
     },
     "execution_count": 108,
     "metadata": {},
     "output_type": "execute_result"
    },
    {
     "data": {
      "image/png": "[encoded data removed]",
      "text/plain": [
       "<Figure size 432x288 with 1 Axes>"
      ]
     },
     "metadata": {
      "needs_background": "light"
     },
     "output_type": "display_data"
    }
   ],
   "source": [
    "shows['release year'].value_counts().plot(kind='bar',color='red')"
   ]
  },
  {
   "cell_type": "markdown",
   "metadata": {},
   "source": [
    "*Maximum number of shows were released in 2016*"
   ]
  },
  {
   "cell_type": "code",
   "execution_count": 109,
   "metadata": {},
   "outputs": [],
   "source": [
    "shows_2016=shows[shows['release year']==2016]"
   ]
  },
  {
   "cell_type": "code",
   "execution_count": 110,
   "metadata": {},
   "outputs": [
    {
     "data": {
      "text/plain": [
       "<AxesSubplot:>"
      ]
     },
     "execution_count": 110,
     "metadata": {},
     "output_type": "execute_result"
    },
    {
     "data": {
      "image/png": "[encoded data removed]",
      "text/plain": [
       "<Figure size 432x288 with 1 Axes>"
      ]
     },
     "metadata": {
      "needs_background": "light"
     },
     "output_type": "display_data"
    }
   ],
   "source": [
    "shows_2016['rating'].value_counts().plot(kind='barh')"
   ]
  },
  {
   "cell_type": "markdown",
   "metadata": {},
   "source": [
    "*Most of the shows released in 2016 were TV-14*"
   ]
  },
  {
   "cell_type": "code",
   "execution_count": 111,
   "metadata": {},
   "outputs": [
    {
     "data": {
      "text/plain": [
       "83.97945205479452"
      ]
     },
     "execution_count": 111,
     "metadata": {},
     "output_type": "execute_result"
    }
   ],
   "source": [
    "shows_2016['user rating score'].mean()"
   ]
  },
  {
   "cell_type": "markdown",
   "metadata": {},
   "source": [
    "*Mean rating of shows released in 2016*"
   ]
  },
  {
   "cell_type": "code",
   "execution_count": 112,
   "metadata": {},
   "outputs": [
    {
     "data": {
      "text/html": [
       "<div>\n",
       "<style scoped>\n",
       "    .dataframe tbody tr th:only-of-type {\n",
       "        vertical-align: middle;\n",
       "    }\n",
       "\n",
       "    .dataframe tbody tr th {\n",
       "        vertical-align: top;\n",
       "    }\n",
       "\n",
       "    .dataframe thead th {\n",
       "        text-align: right;\n",
       "    }\n",
       "</style>\n",
       "<table border=\"1\" class=\"dataframe\">\n",
       "  <thead>\n",
       "    <tr style=\"text-align: right;\">\n",
       "      <th></th>\n",
       "      <th>title</th>\n",
       "      <th>rating</th>\n",
       "      <th>ratingDescription</th>\n",
       "      <th>ratingLevel</th>\n",
       "      <th>release year</th>\n",
       "      <th>user rating score</th>\n",
       "      <th>user rating size</th>\n",
       "    </tr>\n",
       "  </thead>\n",
       "  <tbody>\n",
       "    <tr>\n",
       "      <th>0</th>\n",
       "      <td>White Chicks</td>\n",
       "      <td>PG-13</td>\n",
       "      <td>crude and sexual humor, language and some drug...</td>\n",
       "      <td>80</td>\n",
       "      <td>2004</td>\n",
       "      <td>82.0</td>\n",
       "      <td>80</td>\n",
       "    </tr>\n",
       "    <tr>\n",
       "      <th>1</th>\n",
       "      <td>Lucky Number Slevin</td>\n",
       "      <td>R</td>\n",
       "      <td>strong violence, sexual content and adult lang...</td>\n",
       "      <td>100</td>\n",
       "      <td>2006</td>\n",
       "      <td>83.5</td>\n",
       "      <td>82</td>\n",
       "    </tr>\n",
       "    <tr>\n",
       "      <th>2</th>\n",
       "      <td>Grey's Anatomy</td>\n",
       "      <td>TV-14</td>\n",
       "      <td>Parents strongly cautioned. May be unsuitable ...</td>\n",
       "      <td>90</td>\n",
       "      <td>2016</td>\n",
       "      <td>98.0</td>\n",
       "      <td>80</td>\n",
       "    </tr>\n",
       "    <tr>\n",
       "      <th>3</th>\n",
       "      <td>Prison Break</td>\n",
       "      <td>TV-14</td>\n",
       "      <td>Parents strongly cautioned. May be unsuitable ...</td>\n",
       "      <td>90</td>\n",
       "      <td>2008</td>\n",
       "      <td>98.0</td>\n",
       "      <td>80</td>\n",
       "    </tr>\n",
       "    <tr>\n",
       "      <th>4</th>\n",
       "      <td>How I Met Your Mother</td>\n",
       "      <td>TV-PG</td>\n",
       "      <td>Parental guidance suggested. May not be suitab...</td>\n",
       "      <td>70</td>\n",
       "      <td>2014</td>\n",
       "      <td>94.0</td>\n",
       "      <td>80</td>\n",
       "    </tr>\n",
       "    <tr>\n",
       "      <th>...</th>\n",
       "      <td>...</td>\n",
       "      <td>...</td>\n",
       "      <td>...</td>\n",
       "      <td>...</td>\n",
       "      <td>...</td>\n",
       "      <td>...</td>\n",
       "      <td>...</td>\n",
       "    </tr>\n",
       "    <tr>\n",
       "      <th>989</th>\n",
       "      <td>Russell Madness</td>\n",
       "      <td>PG</td>\n",
       "      <td>some rude humor and sports action</td>\n",
       "      <td>60</td>\n",
       "      <td>2015</td>\n",
       "      <td>83.5</td>\n",
       "      <td>82</td>\n",
       "    </tr>\n",
       "    <tr>\n",
       "      <th>993</th>\n",
       "      <td>Wiener Dog Internationals</td>\n",
       "      <td>G</td>\n",
       "      <td>General Audiences. Suitable for all ages.</td>\n",
       "      <td>35</td>\n",
       "      <td>2015</td>\n",
       "      <td>83.5</td>\n",
       "      <td>82</td>\n",
       "    </tr>\n",
       "    <tr>\n",
       "      <th>994</th>\n",
       "      <td>Pup Star</td>\n",
       "      <td>G</td>\n",
       "      <td>General Audiences. Suitable for all ages.</td>\n",
       "      <td>35</td>\n",
       "      <td>2016</td>\n",
       "      <td>83.5</td>\n",
       "      <td>82</td>\n",
       "    </tr>\n",
       "    <tr>\n",
       "      <th>997</th>\n",
       "      <td>Precious Puppies</td>\n",
       "      <td>TV-G</td>\n",
       "      <td>Suitable for all ages.</td>\n",
       "      <td>35</td>\n",
       "      <td>2003</td>\n",
       "      <td>83.5</td>\n",
       "      <td>82</td>\n",
       "    </tr>\n",
       "    <tr>\n",
       "      <th>998</th>\n",
       "      <td>Beary Tales</td>\n",
       "      <td>TV-G</td>\n",
       "      <td>Suitable for all ages.</td>\n",
       "      <td>35</td>\n",
       "      <td>2013</td>\n",
       "      <td>83.5</td>\n",
       "      <td>82</td>\n",
       "    </tr>\n",
       "  </tbody>\n",
       "</table>\n",
       "<p>500 rows × 7 columns</p>\n",
       "</div>"
      ],
      "text/plain": [
       "                         title rating  \\\n",
       "0                 White Chicks  PG-13   \n",
       "1          Lucky Number Slevin      R   \n",
       "2               Grey's Anatomy  TV-14   \n",
       "3                 Prison Break  TV-14   \n",
       "4        How I Met Your Mother  TV-PG   \n",
       "..                         ...    ...   \n",
       "989            Russell Madness     PG   \n",
       "993  Wiener Dog Internationals      G   \n",
       "994                   Pup Star      G   \n",
       "997           Precious Puppies   TV-G   \n",
       "998                Beary Tales   TV-G   \n",
       "\n",
       "                                     ratingDescription  ratingLevel  \\\n",
       "0    crude and sexual humor, language and some drug...           80   \n",
       "1    strong violence, sexual content and adult lang...          100   \n",
       "2    Parents strongly cautioned. May be unsuitable ...           90   \n",
       "3    Parents strongly cautioned. May be unsuitable ...           90   \n",
       "4    Parental guidance suggested. May not be suitab...           70   \n",
       "..                                                 ...          ...   \n",
       "989                  some rude humor and sports action           60   \n",
       "993          General Audiences. Suitable for all ages.           35   \n",
       "994          General Audiences. Suitable for all ages.           35   \n",
       "997                             Suitable for all ages.           35   \n",
       "998                             Suitable for all ages.           35   \n",
       "\n",
       "     release year  user rating score  user rating size  \n",
       "0            2004               82.0                80  \n",
       "1            2006               83.5                82  \n",
       "2            2016               98.0                80  \n",
       "3            2008               98.0                80  \n",
       "4            2014               94.0                80  \n",
       "..            ...                ...               ...  \n",
       "989          2015               83.5                82  \n",
       "993          2015               83.5                82  \n",
       "994          2016               83.5                82  \n",
       "997          2003               83.5                82  \n",
       "998          2013               83.5                82  \n",
       "\n",
       "[500 rows x 7 columns]"
      ]
     },
     "execution_count": 112,
     "metadata": {},
     "output_type": "execute_result"
    }
   ],
   "source": [
    "shows"
   ]
  },
  {
   "cell_type": "code",
   "execution_count": 117,
   "metadata": {},
   "outputs": [],
   "source": [
    "shows=shows.rename(columns={'ratingLevel':'ratingDescription','ratingDescription':'ratingLevel'})"
   ]
  },
  {
   "cell_type": "markdown",
   "metadata": {},
   "source": [
    "*The column name was mis-matched*"
   ]
  },
  {
   "cell_type": "code",
   "execution_count": 118,
   "metadata": {},
   "outputs": [
    {
     "data": {
      "text/html": [
       "<div>\n",
       "<style scoped>\n",
       "    .dataframe tbody tr th:only-of-type {\n",
       "        vertical-align: middle;\n",
       "    }\n",
       "\n",
       "    .dataframe tbody tr th {\n",
       "        vertical-align: top;\n",
       "    }\n",
       "\n",
       "    .dataframe thead th {\n",
       "        text-align: right;\n",
       "    }\n",
       "</style>\n",
       "<table border=\"1\" class=\"dataframe\">\n",
       "  <thead>\n",
       "    <tr style=\"text-align: right;\">\n",
       "      <th></th>\n",
       "      <th>index</th>\n",
       "      <th>title</th>\n",
       "      <th>rating</th>\n",
       "      <th>ratingDescription</th>\n",
       "      <th>ratingLevel</th>\n",
       "      <th>release year</th>\n",
       "      <th>user rating score</th>\n",
       "      <th>user rating size</th>\n",
       "    </tr>\n",
       "  </thead>\n",
       "  <tbody>\n",
       "    <tr>\n",
       "      <th>0</th>\n",
       "      <td>0</td>\n",
       "      <td>White Chicks</td>\n",
       "      <td>PG-13</td>\n",
       "      <td>crude and sexual humor, language and some drug...</td>\n",
       "      <td>80</td>\n",
       "      <td>2004</td>\n",
       "      <td>82.0</td>\n",
       "      <td>80</td>\n",
       "    </tr>\n",
       "    <tr>\n",
       "      <th>1</th>\n",
       "      <td>1</td>\n",
       "      <td>Lucky Number Slevin</td>\n",
       "      <td>R</td>\n",
       "      <td>strong violence, sexual content and adult lang...</td>\n",
       "      <td>100</td>\n",
       "      <td>2006</td>\n",
       "      <td>83.5</td>\n",
       "      <td>82</td>\n",
       "    </tr>\n",
       "    <tr>\n",
       "      <th>2</th>\n",
       "      <td>2</td>\n",
       "      <td>Grey's Anatomy</td>\n",
       "      <td>TV-14</td>\n",
       "      <td>Parents strongly cautioned. May be unsuitable ...</td>\n",
       "      <td>90</td>\n",
       "      <td>2016</td>\n",
       "      <td>98.0</td>\n",
       "      <td>80</td>\n",
       "    </tr>\n",
       "    <tr>\n",
       "      <th>3</th>\n",
       "      <td>3</td>\n",
       "      <td>Prison Break</td>\n",
       "      <td>TV-14</td>\n",
       "      <td>Parents strongly cautioned. May be unsuitable ...</td>\n",
       "      <td>90</td>\n",
       "      <td>2008</td>\n",
       "      <td>98.0</td>\n",
       "      <td>80</td>\n",
       "    </tr>\n",
       "    <tr>\n",
       "      <th>4</th>\n",
       "      <td>4</td>\n",
       "      <td>How I Met Your Mother</td>\n",
       "      <td>TV-PG</td>\n",
       "      <td>Parental guidance suggested. May not be suitab...</td>\n",
       "      <td>70</td>\n",
       "      <td>2014</td>\n",
       "      <td>94.0</td>\n",
       "      <td>80</td>\n",
       "    </tr>\n",
       "    <tr>\n",
       "      <th>...</th>\n",
       "      <td>...</td>\n",
       "      <td>...</td>\n",
       "      <td>...</td>\n",
       "      <td>...</td>\n",
       "      <td>...</td>\n",
       "      <td>...</td>\n",
       "      <td>...</td>\n",
       "      <td>...</td>\n",
       "    </tr>\n",
       "    <tr>\n",
       "      <th>495</th>\n",
       "      <td>989</td>\n",
       "      <td>Russell Madness</td>\n",
       "      <td>PG</td>\n",
       "      <td>some rude humor and sports action</td>\n",
       "      <td>60</td>\n",
       "      <td>2015</td>\n",
       "      <td>83.5</td>\n",
       "      <td>82</td>\n",
       "    </tr>\n",
       "    <tr>\n",
       "      <th>496</th>\n",
       "      <td>993</td>\n",
       "      <td>Wiener Dog Internationals</td>\n",
       "      <td>G</td>\n",
       "      <td>General Audiences. Suitable for all ages.</td>\n",
       "      <td>35</td>\n",
       "      <td>2015</td>\n",
       "      <td>83.5</td>\n",
       "      <td>82</td>\n",
       "    </tr>\n",
       "    <tr>\n",
       "      <th>497</th>\n",
       "      <td>994</td>\n",
       "      <td>Pup Star</td>\n",
       "      <td>G</td>\n",
       "      <td>General Audiences. Suitable for all ages.</td>\n",
       "      <td>35</td>\n",
       "      <td>2016</td>\n",
       "      <td>83.5</td>\n",
       "      <td>82</td>\n",
       "    </tr>\n",
       "    <tr>\n",
       "      <th>498</th>\n",
       "      <td>997</td>\n",
       "      <td>Precious Puppies</td>\n",
       "      <td>TV-G</td>\n",
       "      <td>Suitable for all ages.</td>\n",
       "      <td>35</td>\n",
       "      <td>2003</td>\n",
       "      <td>83.5</td>\n",
       "      <td>82</td>\n",
       "    </tr>\n",
       "    <tr>\n",
       "      <th>499</th>\n",
       "      <td>998</td>\n",
       "      <td>Beary Tales</td>\n",
       "      <td>TV-G</td>\n",
       "      <td>Suitable for all ages.</td>\n",
       "      <td>35</td>\n",
       "      <td>2013</td>\n",
       "      <td>83.5</td>\n",
       "      <td>82</td>\n",
       "    </tr>\n",
       "  </tbody>\n",
       "</table>\n",
       "<p>500 rows × 8 columns</p>\n",
       "</div>"
      ],
      "text/plain": [
       "     index                      title rating  \\\n",
       "0        0               White Chicks  PG-13   \n",
       "1        1        Lucky Number Slevin      R   \n",
       "2        2             Grey's Anatomy  TV-14   \n",
       "3        3               Prison Break  TV-14   \n",
       "4        4      How I Met Your Mother  TV-PG   \n",
       "..     ...                        ...    ...   \n",
       "495    989            Russell Madness     PG   \n",
       "496    993  Wiener Dog Internationals      G   \n",
       "497    994                   Pup Star      G   \n",
       "498    997           Precious Puppies   TV-G   \n",
       "499    998                Beary Tales   TV-G   \n",
       "\n",
       "                                     ratingDescription  ratingLevel  \\\n",
       "0    crude and sexual humor, language and some drug...           80   \n",
       "1    strong violence, sexual content and adult lang...          100   \n",
       "2    Parents strongly cautioned. May be unsuitable ...           90   \n",
       "3    Parents strongly cautioned. May be unsuitable ...           90   \n",
       "4    Parental guidance suggested. May not be suitab...           70   \n",
       "..                                                 ...          ...   \n",
       "495                  some rude humor and sports action           60   \n",
       "496          General Audiences. Suitable for all ages.           35   \n",
       "497          General Audiences. Suitable for all ages.           35   \n",
       "498                             Suitable for all ages.           35   \n",
       "499                             Suitable for all ages.           35   \n",
       "\n",
       "     release year  user rating score  user rating size  \n",
       "0            2004               82.0                80  \n",
       "1            2006               83.5                82  \n",
       "2            2016               98.0                80  \n",
       "3            2008               98.0                80  \n",
       "4            2014               94.0                80  \n",
       "..            ...                ...               ...  \n",
       "495          2015               83.5                82  \n",
       "496          2015               83.5                82  \n",
       "497          2016               83.5                82  \n",
       "498          2003               83.5                82  \n",
       "499          2013               83.5                82  \n",
       "\n",
       "[500 rows x 8 columns]"
      ]
     },
     "execution_count": 118,
     "metadata": {},
     "output_type": "execute_result"
    }
   ],
   "source": [
    "shows.reset_index()"
   ]
  },
  {
   "cell_type": "code",
   "execution_count": 119,
   "metadata": {},
   "outputs": [],
   "source": [
    "years=shows['release year'].unique()\n",
    "ratings_per_year=[]\n",
    "ind=[]\n",
    "for i in years:\n",
    "    ind.append(i)\n",
    "    temp=shows[shows['release year']==i]['user rating score'].mean()\n",
    "    ratings_per_year.append(temp)\n",
    "df=pd.DataFrame(ratings_per_year,index=ind,columns=['Ratings'])\n",
    "df=df.sort_index()"
   ]
  },
  {
   "cell_type": "code",
   "execution_count": 120,
   "metadata": {},
   "outputs": [
    {
     "data": {
      "text/plain": [
       "<AxesSubplot:>"
      ]
     },
     "execution_count": 120,
     "metadata": {},
     "output_type": "execute_result"
    },
    {
     "data": {
      "image/png": "[encoded data removed]",
      "text/plain": [
       "<Figure size 432x288 with 1 Axes>"
      ]
     },
     "metadata": {
      "needs_background": "light"
     },
     "output_type": "display_data"
    }
   ],
   "source": [
    "df.plot(kind='line')"
   ]
  },
  {
   "cell_type": "markdown",
   "metadata": {},
   "source": [
    "*This graph shows the average ratings of all the shows released in a perticular year. We can infer that the average ratings increased steadily from 1940 to 1980 and there was a decrease in ratings between 1980 to 1990. The graph is very irregular.*"
   ]
  },
  {
   "cell_type": "code",
   "execution_count": null,
   "metadata": {},
   "outputs": [],
   "source": []
  }
 ],
 "metadata": {
  "kernelspec": {
   "display_name": "Python 3",
   "language": "python",
   "name": "python3"
  },
  "language_info": {
   "codemirror_mode": {
    "name": "ipython",
    "version": 3
   },
   "file_extension": ".py",
   "mimetype": "text/x-python",
   "name": "python",
   "nbconvert_exporter": "python",
   "pygments_lexer": "ipython3",
   "version": "3.8.5"
  }
 },
 "nbformat": 4,
 "nbformat_minor": 4
}
